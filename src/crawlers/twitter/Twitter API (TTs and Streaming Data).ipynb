{
 "cells": [
  {
   "cell_type": "code",
   "execution_count": null,
   "id": "c114748e",
   "metadata": {},
   "outputs": [],
   "source": [
    "import time\n",
    "import json\n",
    "import tweepy"
   ]
  },
  {
   "cell_type": "code",
   "execution_count": null,
   "id": "b8f56ce6",
   "metadata": {},
   "outputs": [],
   "source": [
    "# Keys and Access Tokens\n",
    "consumer_key = 'ZsdCp41WfGyjRhqGrXLijllaL'\n",
    "consumer_secret = 'aQTeoGnNxctaLqj5gw5AqJ8liqFtAWedyqoZL6naQobOtYQGo0'\n",
    "\n",
    "access_token = '848211984399179776-F0IxgJAanurK4e8lYzBjNhpzY8aENDw'\n",
    "access_token_secret = 'SvJP296wgdOcNlHJGckCgRNtXEotPvYORP05TJOPomb0t'"
   ]
  },
  {
   "cell_type": "code",
   "execution_count": null,
   "id": "a14cfb36",
   "metadata": {},
   "outputs": [],
   "source": [
    "def get_twitter_api_access(consumer_key, consumer_secret, access_token, access_token_secret):\n",
    "    \"\"\"Set up Authentication Instance\"\"\"\n",
    "\n",
    "    auth = tweepy.OAuthHandler(consumer_key, consumer_secret)\n",
    "    auth.set_access_token(access_token, access_token_secret)\n",
    "\n",
    "    api = tweepy.API(auth, wait_on_rate_limit=True)\n",
    "    \n",
    "    return api"
   ]
  },
  {
   "cell_type": "code",
   "execution_count": null,
   "id": "12641f1c",
   "metadata": {},
   "outputs": [],
   "source": [
    "# The API class provides access to the entire twitter RESTful API methods.\n",
    "api = get_twitter_api_access(consumer_key, consumer_secret, access_token, access_token_secret)"
   ]
  },
  {
   "cell_type": "markdown",
   "id": "76f82fbd",
   "metadata": {},
   "source": [
    "---"
   ]
  },
  {
   "cell_type": "markdown",
   "id": "bd1aa766",
   "metadata": {},
   "source": [
    "### 1. Explore Trending Topics with Location"
   ]
  },
  {
   "cell_type": "code",
   "execution_count": null,
   "id": "172a1e91",
   "metadata": {
    "scrolled": false
   },
   "outputs": [],
   "source": [
    "BRAZIL = 23424768 # parent id\n",
    "SAO_PAULO = 455827 # id\n",
    "\n",
    "EUA = 23424977\n",
    "NEW_YORK = 2459115\n",
    "\n",
    "# Reference:\n",
    "# https://developer.twitter.com/en/docs/twitter-api/v1/trends/trends-for-location/api-reference/get-trends-place\n",
    "tts = api.get_place_trends(SAO_PAULO)\n",
    "\n",
    "# Find more locations with\n",
    "# \"GET https://api.twitter.com/1.1/trends/available.json\"\n",
    "# Try on Insomnia\n",
    "\n",
    "print ('CURRENT TOP 50 TRENDING TOPICS\\n')\n",
    "for index, tt in enumerate(tts[0]['trends']):\n",
    "    print (f\"{index+1}. {tt['name']} (Volume: {tt['tweet_volume']})\")"
   ]
  },
  {
   "cell_type": "markdown",
   "id": "c5eb0a53",
   "metadata": {},
   "source": [
    "---"
   ]
  },
  {
   "cell_type": "markdown",
   "id": "5844ba7f",
   "metadata": {},
   "source": [
    "## Streaming"
   ]
  },
  {
   "cell_type": "code",
   "execution_count": null,
   "id": "ecaea96d",
   "metadata": {},
   "outputs": [],
   "source": [
    "class MyStreamListener(tweepy.Stream):\n",
    "    \"\"\"Listen for tweets\"\"\"\n",
    "    def __init__(self, consumer_key, consumer_secret, access_token, access_token_secret, api):\n",
    "        super(MyStreamListener, self).__init__(consumer_key, consumer_secret, access_token, access_token_secret)\n",
    "        self.counter = 0\n",
    "        # References the auth instance for the listener\n",
    "        self.api = api    \n",
    "    \n",
    "    def on_connect(self):\n",
    "        \"\"\"\n",
    "        This is called after successfully connecting to the streaming API.\n",
    "        \"\"\"\n",
    "        print(\"Connected to Twitter API!\")\n",
    "        \n",
    "    def on_connection_error(self):\n",
    "        \"\"\"\n",
    "        This is called when the stream connection errors or times out.\n",
    "        \"\"\"\n",
    "        print(\"Error connect to Twitter API!\")\n",
    "        \n",
    "    def on_status(self, tweet):\n",
    "        \"\"\"\n",
    "        This is called when a status is received.\n",
    "        \"\"\"         \n",
    "        user = tweet.user.screen_name\n",
    "        text = tweet.text\n",
    "        date_created = tweet.created_at\n",
    "\n",
    "        print (user, text, date_created)\n",
    "        \n",
    "    def on_data(self, raw_data):\n",
    "        \"\"\"\n",
    "        This is called when raw data is received from the stream. \n",
    "        This method handles sending the data to other methods based \n",
    "        on the message type.\n",
    "        \n",
    "        Object Format: \n",
    "            - https://developer.twitter.com/en/docs/twitter-api/v1/data-dictionary/object-model/tweet\n",
    "        \"\"\"\n",
    "        try:\n",
    "            tweet = json.loads(raw_data.decode('utf-8'))\n",
    "            user = tweet['user']\n",
    "            \n",
    "            # TODO\n",
    "            # Filter RTs\n",
    "            \n",
    "            print ('--' * 50)\n",
    "            \n",
    "            print ('\\nTweet information:')\n",
    "            print (f\"  - Tweet ID: {tweet['id']}\")\n",
    "            print (f\"  - Created at: {tweet['created_at']}\")\n",
    "            print (f\"  - Text: {tweet['text']}\")\n",
    "            \n",
    "            print ('\\nUser information:')\n",
    "            print (f\"  - Name: {user['name']}\")\n",
    "            print (f\"  - Username: @{user['screen_name']}\")\n",
    "            \n",
    "            print ('\\nMetadata:')\n",
    "            print (tweet['entities'])\n",
    "            \n",
    "            print ('--' * 50)\n",
    "                 \n",
    "            \n",
    "            return True\n",
    "        except BaseException as e:\n",
    "            print(\"Error on_data: %s\" % str(e))\n",
    "        return True\n",
    "    \n",
    "    def on_disconnect(self):\n",
    "        \"\"\"\n",
    "        This is called when the stream has disconnected.\n",
    "        \"\"\"\n",
    "        print(\"The connection to Twitter API has been closed!\")\n",
    "        \n",
    "    def on_keep_alive(self):\n",
    "        \"\"\"\n",
    "        This is called when a keep-alive signal is received.\n",
    "        \"\"\"\n",
    "        print(\"Keep-Alive signal received!\")\n",
    "        "
   ]
  },
  {
   "cell_type": "markdown",
   "id": "6dc3d6b1",
   "metadata": {},
   "source": [
    "### 2. Retrieve Streaming Data (Keywords)\n",
    "\n",
    "#### References\n",
    "\n",
    "- https://docs.tweepy.org/en/stable/stream.html#tweepy.Stream.on_status\n",
    "- https://developer.twitter.com/en/docs/twitter-api/v1/data-dictionary/object-model/tweet"
   ]
  },
  {
   "cell_type": "code",
   "execution_count": null,
   "id": "a105445a",
   "metadata": {},
   "outputs": [],
   "source": [
    "# Streams utilize Streaming HTTP protocol to deliver data through \n",
    "# an open, streaming API connection.\n",
    "\n",
    "# search_topics = ['$ABEV3', '$PETR4', '$VALE3', '$WEGE3', '$OIBR3', '$VIIA3']\n",
    "\n",
    "# twitter_listener = MyStreamListener(consumer_key, \n",
    "#                                     consumer_secret, \n",
    "#                                     access_token, \n",
    "#                                     access_token_secret, \n",
    "#                                     api)\n",
    "\n",
    "# twitter_listener.filter(track=search_topics,\n",
    "#                         languages=['pt'],\n",
    "#                         threaded=True)"
   ]
  },
  {
   "cell_type": "markdown",
   "id": "80d15922",
   "metadata": {},
   "source": [
    "---"
   ]
  },
  {
   "cell_type": "markdown",
   "id": "d9a722d3",
   "metadata": {},
   "source": [
    "### 3. Retrieve Streaming Data (Users)\n",
    "\n"
   ]
  },
  {
   "cell_type": "code",
   "execution_count": 16,
   "id": "427aeb45",
   "metadata": {},
   "outputs": [
    {
     "name": "stdout",
     "output_type": "stream",
     "text": [
      "Following...\n",
      "\n",
      "   Arko Advice 1336365702698192896\n",
      "   Suno Notícias 778276232081342464\n",
      "   Investing.com Brasil 🇧🇷 49292227\n",
      "   Money Times 51150679\n",
      "   Valor Investe 1113533606247436289\n",
      "   InfoMoney | IM+ 59773459\n",
      "   B3 74550038\n",
      "   Fatos Relevantes S.A. 1124834863520022529\n"
     ]
    }
   ],
   "source": [
    "usernames = ['arkoadvice', 'sunonoticias', 'InvestingBrasil', 'leiamoneytimes', 'valorinveste', 'infomoney', 'B3_Oficial', 'Fatosdomercado']\n",
    "find_users = [api.search_users(user) for user in usernames]\n",
    "\n",
    "user_ids = []\n",
    "\n",
    "print ('Following...\\n')\n",
    "for users_found in find_users:\n",
    "    for user in users_found:\n",
    "        data = user._json\n",
    "\n",
    "        if data['screen_name'] in usernames:\n",
    "            print ('  ', data['name'], data['id'])\n",
    "            #print (data['screen_name'])\n",
    "            user_ids.append(data['id'])"
   ]
  },
  {
   "cell_type": "code",
   "execution_count": null,
   "id": "b998b6d2",
   "metadata": {
    "scrolled": true
   },
   "outputs": [],
   "source": [
    "# The default access level allows up to 400 track keywords and 5,000 follow userids.\n",
    "\n",
    "# twitter_listener = MyStreamListener(consumer_key, \n",
    "#                                     consumer_secret, \n",
    "#                                     access_token, \n",
    "#                                     access_token_secret, \n",
    "#                                     api)\n",
    "\n",
    "# twitter_listener.filter(follow=user_ids,\n",
    "#                         languages=['pt'],\n",
    "#                         threaded=True)"
   ]
  },
  {
   "cell_type": "markdown",
   "id": "0571405f",
   "metadata": {},
   "source": [
    "---"
   ]
  },
  {
   "cell_type": "markdown",
   "id": "6b373193",
   "metadata": {},
   "source": [
    "### 4. Retrieve Tweet History of Specific User"
   ]
  },
  {
   "cell_type": "code",
   "execution_count": 12,
   "id": "b0da7020",
   "metadata": {
    "scrolled": true
   },
   "outputs": [],
   "source": [
    "def display_hashtag_info(hashtag_list):\n",
    "    if len(hashtag_list) == 0:\n",
    "        print ('\\tNo Hashtags mentioned.')\n",
    "    else:\n",
    "        for index, hashtag in enumerate(hashtag_list):\n",
    "            print (f\"\\t{index+1}. {hashtag['text'].upper()}\")"
   ]
  },
  {
   "cell_type": "code",
   "execution_count": 13,
   "id": "e65402d5",
   "metadata": {},
   "outputs": [],
   "source": [
    "def display_url_info(url_list):\n",
    "    if len(url_list) == 0:\n",
    "        print ('\\tNo URLs mentioned.')\n",
    "    else:\n",
    "        for index, url in enumerate(url_list):\n",
    "            print (f\"\\t{index+1}. {url['expanded_url']}\")"
   ]
  },
  {
   "cell_type": "code",
   "execution_count": 14,
   "id": "a913d5a4",
   "metadata": {},
   "outputs": [],
   "source": [
    "def display_media_info(entities_json):\n",
    "    if 'media' not in entities_json.keys():\n",
    "        print ('\\tNo media available.')\n",
    "    else:\n",
    "        media_list = entities_json['media']\n",
    "        for index, media in enumerate(media_list):\n",
    "            print (f\"\\t{index+1}. {media['type']} {media['url']}\")"
   ]
  },
  {
   "cell_type": "code",
   "execution_count": 11,
   "id": "1a1edd0b",
   "metadata": {},
   "outputs": [],
   "source": [
    "def display_tweet_info(tweet):\n",
    "    # User Specific Info\n",
    "    user = tweet['user']\n",
    "    \n",
    "    print ('--' * 50)\n",
    "            \n",
    "    print ('\\nTweet information:')\n",
    "    print (f\"  - Tweet ID: {tweet['id']}\")\n",
    "    print (f\"  - Created at: {tweet['created_at']}\")\n",
    "    print (f\"  - Text: {tweet['text']}\")\n",
    "\n",
    "    print ('\\nUser information:')\n",
    "    print (f\"  - User ID: {user['id']}\")\n",
    "    print (f\"  - Name: {user['name']}\")\n",
    "    print (f\"  - Username: @{user['screen_name']}\")\n",
    "\n",
    "    print ('\\nMetadata:')\n",
    "    print (f\"  - Hashtags: \")\n",
    "    display_hashtag_info(tweet['entities']['hashtags'])\n",
    "    print (f\"  - URLs: \")\n",
    "    display_url_info(tweet['entities']['urls'])\n",
    "    print (f\"  - Media: \")\n",
    "    display_media_info(tweet['entities'])\n",
    "    \n",
    "    #print (tweet['entities'])"
   ]
  },
  {
   "cell_type": "code",
   "execution_count": 9,
   "id": "fbd28459",
   "metadata": {},
   "outputs": [],
   "source": [
    "# This method can only return up to 3,200 of a user's most recent Tweets.\n",
    "user_timeline = api.user_timeline(user_id=1124834863520022529,\n",
    "                                 screen_name='Fatosdomercado',\n",
    "                                 count=5,\n",
    "                                 exclude_replies=True, \n",
    "                                 include_rts=False)"
   ]
  },
  {
   "cell_type": "code",
   "execution_count": 15,
   "id": "63c188b6",
   "metadata": {
    "scrolled": false
   },
   "outputs": [
    {
     "name": "stdout",
     "output_type": "stream",
     "text": [
      "----------------------------------------------------------------------------------------------------\n",
      "\n",
      "Tweet information:\n",
      "  - Tweet ID: 1520033166182035456\n",
      "  - Created at: Fri Apr 29 13:32:02 +0000 2022\n",
      "  - Text: As corretoras deveriam demitir todos os analistas. Além de errarem tudo, ainda levam os investidores juntos.\n",
      "Onde s… https://t.co/6TgCsZQYbO\n",
      "\n",
      "User information:\n",
      "  - User ID: 1124834863520022529\n",
      "  - Name: Fatos Relevantes S.A.\n",
      "  - Username: @Fatosdomercado\n",
      "\n",
      "Metadata:\n",
      "  - Hashtags: \n",
      "\tNo Hashtags mentioned.\n",
      "  - URLs: \n",
      "\t1. https://twitter.com/i/web/status/1520033166182035456\n",
      "  - Media: \n",
      "\tNo media available.\n",
      "\n",
      "\n"
     ]
    }
   ],
   "source": [
    "for t in user_timeline:\n",
    "    tweet = t._json\n",
    "    display_tweet_info(tweet)\n",
    "    print ('\\n')"
   ]
  },
  {
   "cell_type": "markdown",
   "id": "5e0df6f6",
   "metadata": {},
   "source": [
    "---"
   ]
  },
  {
   "cell_type": "markdown",
   "id": "4862dd18",
   "metadata": {},
   "source": [
    "### 5. Get information of Specific Tweet ID"
   ]
  },
  {
   "cell_type": "code",
   "execution_count": null,
   "id": "67426616",
   "metadata": {},
   "outputs": [],
   "source": [
    "tweet_info = api.get_status(1492976710215741446)"
   ]
  },
  {
   "cell_type": "code",
   "execution_count": null,
   "id": "68116906",
   "metadata": {
    "scrolled": false
   },
   "outputs": [],
   "source": [
    "tweet_info._json"
   ]
  },
  {
   "cell_type": "markdown",
   "id": "3edcfba8",
   "metadata": {},
   "source": [
    "---"
   ]
  },
  {
   "cell_type": "markdown",
   "id": "94aa1b65",
   "metadata": {},
   "source": [
    "### 6. Store Collected Data"
   ]
  },
  {
   "cell_type": "code",
   "execution_count": null,
   "id": "e957f423",
   "metadata": {},
   "outputs": [],
   "source": [
    "def proccess_user_timeline(user_timeline):\n",
    "    \n",
    "    results_list = list()\n",
    "    \n",
    "    for t in user_timeline:\n",
    "        \n",
    "        tweet = t._json\n",
    "        \n",
    "        results_dict = dict()\n",
    "        \n",
    "        results_dict['tweet_id'] = ref_date\n",
    "        results_dict['user_id'] = ref_date\n",
    "        results_dict['created_at'] = ref_date\n",
    "        results_dict['tweet_text'] = ref_date\n",
    "        \n",
    "        results_dict['beta_ticker2'] = ref_date\n",
    "        results_dict['\\\"window\\\"'] = ref_date\n",
    "        results_dict['correlation'] = ref_date\n",
    "        results_dict['daily_vol_pair'] = ref_date\n",
    "\n",
    "        # Save Results\n",
    "        results_list.append(results_dict)\n",
    "        \n",
    "    return results_list"
   ]
  }
 ],
 "metadata": {
  "kernelspec": {
   "display_name": "tf",
   "language": "python",
   "name": "tf"
  },
  "language_info": {
   "codemirror_mode": {
    "name": "ipython",
    "version": 3
   },
   "file_extension": ".py",
   "mimetype": "text/x-python",
   "name": "python",
   "nbconvert_exporter": "python",
   "pygments_lexer": "ipython3",
   "version": "3.8.0"
  }
 },
 "nbformat": 4,
 "nbformat_minor": 5
}

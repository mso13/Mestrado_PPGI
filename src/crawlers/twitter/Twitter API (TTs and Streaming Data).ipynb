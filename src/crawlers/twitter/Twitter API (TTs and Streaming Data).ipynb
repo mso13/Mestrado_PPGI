{
 "cells": [
  {
   "cell_type": "code",
   "execution_count": 2,
   "id": "c114748e",
   "metadata": {},
   "outputs": [],
   "source": [
    "import time\n",
    "import json\n",
    "import tweepy\n",
    "from datetime import datetime, timedelta"
   ]
  },
  {
   "cell_type": "code",
   "execution_count": 3,
   "id": "b8f56ce6",
   "metadata": {},
   "outputs": [],
   "source": [
    "# Keys and Access Tokens\n",
    "consumer_key = 'ZsdCp41WfGyjRhqGrXLijllaL'\n",
    "consumer_secret = 'aQTeoGnNxctaLqj5gw5AqJ8liqFtAWedyqoZL6naQobOtYQGo0'\n",
    "\n",
    "access_token = '848211984399179776-F0IxgJAanurK4e8lYzBjNhpzY8aENDw'\n",
    "access_token_secret = 'SvJP296wgdOcNlHJGckCgRNtXEotPvYORP05TJOPomb0t'"
   ]
  },
  {
   "cell_type": "code",
   "execution_count": 4,
   "id": "a14cfb36",
   "metadata": {},
   "outputs": [],
   "source": [
    "def get_twitter_api_access(consumer_key, consumer_secret, access_token, access_token_secret):\n",
    "    \"\"\"Set up Authentication Instance\"\"\"\n",
    "\n",
    "    auth = tweepy.OAuthHandler(consumer_key, consumer_secret)\n",
    "    auth.set_access_token(access_token, access_token_secret)\n",
    "\n",
    "    api = tweepy.API(auth, wait_on_rate_limit=True)\n",
    "    \n",
    "    return api"
   ]
  },
  {
   "cell_type": "code",
   "execution_count": 55,
   "id": "7907adcf",
   "metadata": {},
   "outputs": [],
   "source": [
    "def get_twitter_client_access(consumer_key, consumer_secret, access_token, access_token_secret):\n",
    "    \"\"\"Set up Authentication Instance\"\"\"\n",
    "\n",
    "    auth = tweepy.OAuthHandler(consumer_key, consumer_secret)\n",
    "    auth.set_access_token(access_token, access_token_secret)\n",
    "\n",
    "    client = tweepy.Client(auth.access_token, consumer_key, consumer_secret, access_token, access_token_secret, wait_on_rate_limit=True)\n",
    "    \n",
    "    return client"
   ]
  },
  {
   "cell_type": "code",
   "execution_count": 56,
   "id": "12641f1c",
   "metadata": {},
   "outputs": [],
   "source": [
    "# The API class provides access to the entire twitter RESTful API methods.\n",
    "api = get_twitter_api_access(consumer_key, consumer_secret, access_token, access_token_secret)\n",
    "client = get_twitter_client_access(consumer_key, consumer_secret, access_token, access_token_secret)"
   ]
  },
  {
   "cell_type": "markdown",
   "id": "76f82fbd",
   "metadata": {},
   "source": [
    "---"
   ]
  },
  {
   "cell_type": "markdown",
   "id": "5844ba7f",
   "metadata": {},
   "source": [
    "## Streaming"
   ]
  },
  {
   "cell_type": "code",
   "execution_count": null,
   "id": "ecaea96d",
   "metadata": {},
   "outputs": [],
   "source": [
    "class MyStreamListener(tweepy.Stream):\n",
    "    \"\"\"Listen for tweets\"\"\"\n",
    "    def __init__(self, consumer_key, consumer_secret, access_token, access_token_secret, api):\n",
    "        super(MyStreamListener, self).__init__(consumer_key, consumer_secret, access_token, access_token_secret)\n",
    "        self.counter = 0\n",
    "        # References the auth instance for the listener\n",
    "        self.api = api    \n",
    "    \n",
    "    def on_connect(self):\n",
    "        \"\"\"\n",
    "        This is called after successfully connecting to the streaming API.\n",
    "        \"\"\"\n",
    "        print(\"Connected to Twitter API!\")\n",
    "        \n",
    "    def on_connection_error(self):\n",
    "        \"\"\"\n",
    "        This is called when the stream connection errors or times out.\n",
    "        \"\"\"\n",
    "        print(\"Error connect to Twitter API!\")\n",
    "        \n",
    "    def on_status(self, tweet):\n",
    "        \"\"\"\n",
    "        This is called when a status is received.\n",
    "        \"\"\"         \n",
    "        user = tweet.user.screen_name\n",
    "        text = tweet.text\n",
    "        date_created = tweet.created_at\n",
    "\n",
    "        print (user, text, date_created)\n",
    "        \n",
    "    def on_data(self, raw_data):\n",
    "        \"\"\"\n",
    "        This is called when raw data is received from the stream. \n",
    "        This method handles sending the data to other methods based \n",
    "        on the message type.\n",
    "        \n",
    "        Object Format: \n",
    "            - https://developer.twitter.com/en/docs/twitter-api/v1/data-dictionary/object-model/tweet\n",
    "        \"\"\"\n",
    "        try:\n",
    "            tweet = json.loads(raw_data.decode('utf-8'))\n",
    "            user = tweet['user']\n",
    "            \n",
    "            # TODO\n",
    "            # Filter RTs\n",
    "            \n",
    "            print ('--' * 50)\n",
    "            \n",
    "            print ('\\nTweet information:')\n",
    "            print (f\"  - Tweet ID: {tweet['id']}\")\n",
    "            print (f\"  - Created at: {tweet['created_at']}\")\n",
    "            print (f\"  - Text: {tweet['text']}\")\n",
    "            \n",
    "            print ('\\nUser information:')\n",
    "            print (f\"  - Name: {user['name']}\")\n",
    "            print (f\"  - Username: @{user['screen_name']}\")\n",
    "            \n",
    "            print ('\\nMetadata:')\n",
    "            print (tweet['entities'])\n",
    "            \n",
    "            print ('--' * 50)\n",
    "                 \n",
    "            \n",
    "            return True\n",
    "        except BaseException as e:\n",
    "            print(\"Error on_data: %s\" % str(e))\n",
    "        return True\n",
    "    \n",
    "    def on_disconnect(self):\n",
    "        \"\"\"\n",
    "        This is called when the stream has disconnected.\n",
    "        \"\"\"\n",
    "        print(\"The connection to Twitter API has been closed!\")\n",
    "        \n",
    "    def on_keep_alive(self):\n",
    "        \"\"\"\n",
    "        This is called when a keep-alive signal is received.\n",
    "        \"\"\"\n",
    "        print(\"Keep-Alive signal received!\")\n",
    "        "
   ]
  },
  {
   "cell_type": "markdown",
   "id": "6dc3d6b1",
   "metadata": {},
   "source": [
    "### 2. Retrieve Streaming Data (Keywords)\n",
    "\n",
    "#### References\n",
    "\n",
    "- https://docs.tweepy.org/en/stable/stream.html#tweepy.Stream.on_status\n",
    "- https://developer.twitter.com/en/docs/twitter-api/v1/data-dictionary/object-model/tweet"
   ]
  },
  {
   "cell_type": "code",
   "execution_count": null,
   "id": "a105445a",
   "metadata": {},
   "outputs": [],
   "source": [
    "# Streams utilize Streaming HTTP protocol to deliver data through \n",
    "# an open, streaming API connection.\n",
    "\n",
    "# search_topics = ['$ABEV3', '$PETR4', '$VALE3', '$WEGE3', '$OIBR3', '$VIIA3']\n",
    "\n",
    "# twitter_listener = MyStreamListener(consumer_key, \n",
    "#                                     consumer_secret, \n",
    "#                                     access_token, \n",
    "#                                     access_token_secret, \n",
    "#                                     api)\n",
    "\n",
    "# twitter_listener.filter(track=search_topics,\n",
    "#                         languages=['pt'],\n",
    "#                         threaded=True)"
   ]
  },
  {
   "cell_type": "markdown",
   "id": "80d15922",
   "metadata": {},
   "source": [
    "---"
   ]
  },
  {
   "cell_type": "markdown",
   "id": "d9a722d3",
   "metadata": {},
   "source": [
    "### Retrieve Streaming Data (Users)"
   ]
  },
  {
   "cell_type": "code",
   "execution_count": 80,
   "id": "427aeb45",
   "metadata": {},
   "outputs": [
    {
     "name": "stdout",
     "output_type": "stream",
     "text": [
      "Following...\n",
      "\n",
      "   arkoadvice | 1336365702698192896\n",
      "   sunonoticias | 778276232081342464\n",
      "   InvestingBrasil | 49292227\n",
      "   leiamoneytimes | 51150679\n",
      "   valorinveste | 1113533606247436289\n",
      "   infomoney | 59773459\n",
      "   B3_Oficial | 74550038\n",
      "   Fatosdomercado | 1124834863520022529\n",
      "   petrobras | 45083460\n"
     ]
    }
   ],
   "source": [
    "usernames = ['arkoadvice', 'sunonoticias', 'InvestingBrasil', 'leiamoneytimes', 'valorinveste', 'infomoney', 'B3_Oficial', 'Fatosdomercado', 'petrobras']\n",
    "find_users = [api.search_users(user) for user in usernames]\n",
    "\n",
    "user_ids = []\n",
    "\n",
    "print ('Following...\\n')\n",
    "for users_found in find_users:\n",
    "    for user in users_found:\n",
    "        data = user._json\n",
    "\n",
    "        if data['screen_name'] in usernames:\n",
    "            print ('  ', data['screen_name'], '|', data['id'])\n",
    "            #print (data['screen_name'])\n",
    "            user_ids.append(data['id'])"
   ]
  },
  {
   "cell_type": "code",
   "execution_count": null,
   "id": "b998b6d2",
   "metadata": {
    "scrolled": true
   },
   "outputs": [],
   "source": [
    "# The default access level allows up to 400 track keywords and 5,000 follow userids.\n",
    "\n",
    "# twitter_listener = MyStreamListener(consumer_key, \n",
    "#                                     consumer_secret, \n",
    "#                                     access_token, \n",
    "#                                     access_token_secret, \n",
    "#                                     api)\n",
    "\n",
    "# twitter_listener.filter(follow=user_ids,\n",
    "#                         languages=['pt'],\n",
    "#                         threaded=True)"
   ]
  },
  {
   "cell_type": "markdown",
   "id": "0571405f",
   "metadata": {},
   "source": [
    "---"
   ]
  },
  {
   "cell_type": "markdown",
   "id": "6b373193",
   "metadata": {},
   "source": [
    "### Retrieve Tweets History of Specific User"
   ]
  },
  {
   "cell_type": "code",
   "execution_count": 8,
   "id": "b0da7020",
   "metadata": {
    "scrolled": true
   },
   "outputs": [],
   "source": [
    "def display_hashtag_info(hashtag_list):\n",
    "    if len(hashtag_list) == 0:\n",
    "        print ('\\tNo Hashtags mentioned.')\n",
    "    else:\n",
    "        for index, hashtag in enumerate(hashtag_list):\n",
    "            print (f\"\\t{index+1}. {hashtag['text'].upper()}\")"
   ]
  },
  {
   "cell_type": "code",
   "execution_count": 9,
   "id": "e65402d5",
   "metadata": {},
   "outputs": [],
   "source": [
    "def display_url_info(url_list):\n",
    "    if len(url_list) == 0:\n",
    "        print ('\\tNo URLs mentioned.')\n",
    "    else:\n",
    "        for index, url in enumerate(url_list):\n",
    "            print (f\"\\t{index+1}. {url['expanded_url']}\")"
   ]
  },
  {
   "cell_type": "code",
   "execution_count": 10,
   "id": "a913d5a4",
   "metadata": {},
   "outputs": [],
   "source": [
    "def display_media_info(entities_json):\n",
    "    if 'media' not in entities_json.keys():\n",
    "        print ('\\tNo media available.')\n",
    "    else:\n",
    "        media_list = entities_json['media']\n",
    "        for index, media in enumerate(media_list):\n",
    "            print (f\"\\t{index+1}. {media['type']} {media['url']}\")"
   ]
  },
  {
   "cell_type": "code",
   "execution_count": 14,
   "id": "1a1edd0b",
   "metadata": {},
   "outputs": [],
   "source": [
    "def display_tweet_info(tweet):\n",
    "    # User Specific Info\n",
    "    user = tweet['user']\n",
    "    \n",
    "    print ('--' * 50)\n",
    "            \n",
    "    print ('\\nTweet information:')\n",
    "    print (f\"  - Tweet ID: {tweet['id']}\")\n",
    "    print (f\"  - Created at: {tweet['created_at']}\")\n",
    "    print (f\"  - Text: {tweet['text']}\")\n",
    "\n",
    "    print ('\\nUser information:')\n",
    "    print (f\"  - User ID: {user['id']}\")\n",
    "    print (f\"  - Name: {user['name']}\")\n",
    "    print (f\"  - Username: @{user['screen_name']}\")\n",
    "\n",
    "    print ('\\nMetadata:')\n",
    "    print (f\"  - Hashtags: \")\n",
    "    display_hashtag_info(tweet['entities']['hashtags'])\n",
    "    print (f\"  - URLs: \")\n",
    "    display_url_info(tweet['entities']['urls'])\n",
    "    print (f\"  - Media: \")\n",
    "    display_media_info(tweet['entities'])\n",
    "    \n",
    "    #print (tweet['entities'])"
   ]
  },
  {
   "cell_type": "code",
   "execution_count": 76,
   "id": "73c8d681",
   "metadata": {},
   "outputs": [],
   "source": [
    "def get_json_object(tweet) -> dict:\n",
    "\n",
    "    results_dict = dict()\n",
    "\n",
    "    # User Specific Info\n",
    "    user = tweet['user']\n",
    "\n",
    "    # Convert Date Format and UTC\n",
    "    dt_str = tweet['created_at']\n",
    "    dt_obj = datetime.strptime(dt_str, '%a %b %d %H:%M:%S +%f %Y') - timedelta(hours=3)\n",
    "    dt_str = dt_obj.strftime('%Y-%m-%d %H:%M:%S')\n",
    "\n",
    "    # Store Search Date\n",
    "    now_dt = datetime.now().strftime('%Y-%m-%d %H:%M:%S')\n",
    "\n",
    "    results_dict['tweet_id'] = str(tweet['id'])\n",
    "    results_dict['created_at'] = dt_str\n",
    "    results_dict['search_dt'] = now_dt\n",
    "    results_dict['text'] = tweet['full_text']\n",
    "    results_dict['user_id'] = str(user['id'])\n",
    "    results_dict['screen_name'] = user['screen_name']\n",
    "    results_dict['rt_count'] = tweet['retweet_count']\n",
    "    results_dict['favorite_count'] = tweet['favorite_count']\n",
    "\n",
    "    return results_dict"
   ]
  },
  {
   "cell_type": "code",
   "execution_count": 77,
   "id": "17242568",
   "metadata": {},
   "outputs": [],
   "source": [
    "def save_tweets_history(results_list: list, user_name: str) -> None:\n",
    "    # Save the list of dicts\n",
    "    with open(f'./results/{user_name}.json', 'w', encoding='utf8') as f:\n",
    "        json.dump(results_list, f, ensure_ascii=False)"
   ]
  },
  {
   "cell_type": "code",
   "execution_count": 94,
   "id": "fbd28459",
   "metadata": {},
   "outputs": [],
   "source": [
    "# This method can only return up to 3,200 of a user's most recent Tweets.\n",
    "user_timeline = tweepy.Cursor(api.user_timeline,\n",
    "                              user_id=45083460,\n",
    "                              screen_name='petrobras', \n",
    "                              count=3200,\n",
    "                              exclude_replies=True, \n",
    "                              include_rts=False,\n",
    "                              tweet_mode='extended').items()"
   ]
  },
  {
   "cell_type": "code",
   "execution_count": 95,
   "id": "63c188b6",
   "metadata": {
    "scrolled": false
   },
   "outputs": [
    {
     "name": "stdout",
     "output_type": "stream",
     "text": [
      "Quantidade de Tweets coletados:  420\n"
     ]
    }
   ],
   "source": [
    "results_list = list()\n",
    "\n",
    "for t in user_timeline:\n",
    "    tweet = t._json\n",
    "\n",
    "    results_dict = get_json_object(tweet)\n",
    "    results_list.append(results_dict)\n",
    "\n",
    "print ('Quantidade de Tweets coletados: ', len(results_list))\n",
    "\n",
    "# Store results in JSON object\n",
    "save_tweets_history(results_list, 'petrobras')"
   ]
  },
  {
   "cell_type": "markdown",
   "id": "5e0df6f6",
   "metadata": {},
   "source": [
    "---"
   ]
  },
  {
   "cell_type": "markdown",
   "id": "4862dd18",
   "metadata": {},
   "source": [
    "### Get information of Specific Tweet ID"
   ]
  },
  {
   "cell_type": "code",
   "execution_count": 96,
   "id": "67426616",
   "metadata": {},
   "outputs": [],
   "source": [
    "tweet_info = api.get_status(1520751079893446656)"
   ]
  },
  {
   "cell_type": "code",
   "execution_count": 97,
   "id": "68116906",
   "metadata": {
    "scrolled": false
   },
   "outputs": [
    {
     "data": {
      "text/plain": [
       "{'created_at': 'Sun May 01 13:04:46 +0000 2022',\n",
       " 'id': 1520751079893446656,\n",
       " 'id_str': '1520751079893446656',\n",
       " 'text': 'Música também é inovação que transforma! Por isso, a Orquestra Petrobras Sinfônica marcou presença no #Rio2C. O mae… https://t.co/tOAvB3uPCE',\n",
       " 'truncated': True,\n",
       " 'entities': {'hashtags': [{'text': 'Rio2C', 'indices': [102, 108]}],\n",
       "  'symbols': [],\n",
       "  'user_mentions': [],\n",
       "  'urls': [{'url': 'https://t.co/tOAvB3uPCE',\n",
       "    'expanded_url': 'https://twitter.com/i/web/status/1520751079893446656',\n",
       "    'display_url': 'twitter.com/i/web/status/1…',\n",
       "    'indices': [117, 140]}]},\n",
       " 'source': '<a href=\"https://mobile.twitter.com\" rel=\"nofollow\">Twitter Web App</a>',\n",
       " 'in_reply_to_status_id': None,\n",
       " 'in_reply_to_status_id_str': None,\n",
       " 'in_reply_to_user_id': None,\n",
       " 'in_reply_to_user_id_str': None,\n",
       " 'in_reply_to_screen_name': None,\n",
       " 'user': {'id': 45083460,\n",
       "  'id_str': '45083460',\n",
       "  'name': 'Petrobras',\n",
       "  'screen_name': 'petrobras',\n",
       "  'location': 'Brasil',\n",
       "  'description': 'Somos movidos pelo desafio de prover energia de forma ética, segura e competitiva. #EnergiaParaTransformar',\n",
       "  'url': 'https://t.co/1Ftq9noA2I',\n",
       "  'entities': {'url': {'urls': [{'url': 'https://t.co/1Ftq9noA2I',\n",
       "      'expanded_url': 'http://www.petrobras.com.br',\n",
       "      'display_url': 'petrobras.com.br',\n",
       "      'indices': [0, 23]}]},\n",
       "   'description': {'urls': []}},\n",
       "  'protected': False,\n",
       "  'followers_count': 507722,\n",
       "  'friends_count': 44,\n",
       "  'listed_count': 1899,\n",
       "  'created_at': 'Sat Jun 06 06:33:40 +0000 2009',\n",
       "  'favourites_count': 547,\n",
       "  'utc_offset': None,\n",
       "  'time_zone': None,\n",
       "  'geo_enabled': False,\n",
       "  'verified': True,\n",
       "  'statuses_count': 16954,\n",
       "  'lang': None,\n",
       "  'contributors_enabled': False,\n",
       "  'is_translator': False,\n",
       "  'is_translation_enabled': False,\n",
       "  'profile_background_color': 'FFFFFF',\n",
       "  'profile_background_image_url': 'http://abs.twimg.com/images/themes/theme1/bg.png',\n",
       "  'profile_background_image_url_https': 'https://abs.twimg.com/images/themes/theme1/bg.png',\n",
       "  'profile_background_tile': False,\n",
       "  'profile_image_url': 'http://pbs.twimg.com/profile_images/799597328730558464/ks3kVnp-_normal.jpg',\n",
       "  'profile_image_url_https': 'https://pbs.twimg.com/profile_images/799597328730558464/ks3kVnp-_normal.jpg',\n",
       "  'profile_banner_url': 'https://pbs.twimg.com/profile_banners/45083460/1639771184',\n",
       "  'profile_link_color': '009193',\n",
       "  'profile_sidebar_border_color': 'FFFFFF',\n",
       "  'profile_sidebar_fill_color': 'FFB625',\n",
       "  'profile_text_color': '000000',\n",
       "  'profile_use_background_image': False,\n",
       "  'has_extended_profile': True,\n",
       "  'default_profile': False,\n",
       "  'default_profile_image': False,\n",
       "  'following': False,\n",
       "  'follow_request_sent': False,\n",
       "  'notifications': False,\n",
       "  'translator_type': 'none',\n",
       "  'withheld_in_countries': []},\n",
       " 'geo': None,\n",
       " 'coordinates': None,\n",
       " 'place': None,\n",
       " 'contributors': None,\n",
       " 'is_quote_status': False,\n",
       " 'retweet_count': 3,\n",
       " 'favorite_count': 12,\n",
       " 'favorited': False,\n",
       " 'retweeted': False,\n",
       " 'possibly_sensitive': False,\n",
       " 'possibly_sensitive_appealable': False,\n",
       " 'lang': 'pt'}"
      ]
     },
     "execution_count": 97,
     "metadata": {},
     "output_type": "execute_result"
    }
   ],
   "source": [
    "tweet_info._json"
   ]
  },
  {
   "cell_type": "markdown",
   "id": "3edcfba8",
   "metadata": {},
   "source": [
    "---"
   ]
  }
 ],
 "metadata": {
  "kernelspec": {
   "display_name": "tf",
   "language": "python",
   "name": "tf"
  },
  "language_info": {
   "codemirror_mode": {
    "name": "ipython",
    "version": 3
   },
   "file_extension": ".py",
   "mimetype": "text/x-python",
   "name": "python",
   "nbconvert_exporter": "python",
   "pygments_lexer": "ipython3",
   "version": "3.8.0"
  }
 },
 "nbformat": 4,
 "nbformat_minor": 5
}

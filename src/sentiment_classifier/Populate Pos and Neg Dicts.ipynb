{
 "cells": [
  {
   "cell_type": "code",
   "execution_count": 19,
   "metadata": {},
   "outputs": [],
   "source": [
    "import os\n",
    "import requests\n",
    "from bs4 import BeautifulSoup\n",
    "from unidecode import unidecode"
   ]
  },
  {
   "cell_type": "markdown",
   "metadata": {},
   "source": [
    "### Sinônimos"
   ]
  },
  {
   "cell_type": "code",
   "execution_count": 46,
   "metadata": {},
   "outputs": [],
   "source": [
    "def find_synonyms(word):\n",
    "    \"\"\"Função para buscar os sinônimos encontrados para uma palavra no domínio 'sinonimos.com.br'. \"\"\"\n",
    "    url = f'https://www.sinonimos.com.br/{unidecode(word)}/'\n",
    "    \n",
    "    req = requests.get(url)\n",
    "    soup = BeautifulSoup(req.content, \"html.parser\")\n",
    "    \n",
    "    # Get all <a> tags with class 'sinonimo'\n",
    "    synonyms = [s.text for s in soup.find_all('a', {'class': 'sinonimo'})]    \n",
    "    synonyms.sort()\n",
    "    \n",
    "    synonyms = list(set(synonyms))\n",
    "    \n",
    "    if len(synonyms) == 0:\n",
    "        print ('Nenhum resultado encontrado.')\n",
    "        print (f\"Verificar ortografia da palavra '{word}' e fazer a busca novamente.\")\n",
    "        return [word]\n",
    "    \n",
    "    return synonyms"
   ]
  },
  {
   "cell_type": "code",
   "execution_count": 49,
   "metadata": {},
   "outputs": [
    {
     "name": "stdout",
     "output_type": "stream",
     "text": [
      "dicts\\neg_adjectives.txt\n",
      "dicts\\pos_adjectives.txt\n"
     ]
    }
   ],
   "source": [
    "directory = 'dicts'\n",
    "\n",
    "# Loop over files in the directory\n",
    "for filename in os.scandir(directory):\n",
    "    # Store synonims for each file\n",
    "    words = list()\n",
    "\n",
    "    if not filename.path.endswith('_adjectives.txt'):\n",
    "        continue\n",
    "\n",
    "    # Read Initial Set of Words\n",
    "    with open(filename.path) as f:\n",
    "        lines = f.readlines()\n",
    "        for line in lines:\n",
    "            words.append(line.strip())\n",
    "\n",
    "    # Get Synonyms and Store in the End of File\n",
    "    for word in words:\n",
    "        # Find synonyms list\n",
    "        synonyms = find_synonyms(word)\n",
    "\n",
    "        # Open file\n",
    "        with open(filename.path, 'a') as f_in:\n",
    "            for synonym in synonyms:\n",
    "                f_in.write(synonym + '\\n')\n",
    "    \n",
    "    # Remove duplicates\n",
    "    lines_seen = set() # holds lines already seen\n",
    "    outfile = open(directory + f'/final/{filename.name[:3]}_adj.txt', 'w')\n",
    "    for line in open(filename.path, 'r'):\n",
    "        if line not in lines_seen: # not a duplicate\n",
    "            outfile.write(line)\n",
    "            lines_seen.add(line)\n",
    "    outfile.close()"
   ]
  },
  {
   "cell_type": "markdown",
   "metadata": {},
   "source": [
    "### Conjugações Verbais"
   ]
  },
  {
   "cell_type": "code",
   "execution_count": 2,
   "metadata": {},
   "outputs": [],
   "source": [
    "def find_verb_conjugations(verb):\n",
    "    \"\"\"Função para obter a conjugação de verbos em português. \"\"\"\n",
    "    url = f'https://www.conjugacao.com.br/verbo-{verb}/'\n",
    "    \n",
    "    req = requests.get(url)\n",
    "    soup = BeautifulSoup(req.content, \"html.parser\")\n",
    "    \n",
    "    # Get all <a> tags with class 'sinonimo'\n",
    "    verbs = [s.text for s in soup.find_all('span', {'class': 'f'})]    \n",
    "    verbs = list(set(verbs))\n",
    "    verbs.sort()\n",
    "    \n",
    "    if len(verbs) == 0:\n",
    "        print ('Nenhum resultado encontrado.')\n",
    "        print (f\"Verificar ortografia da palavra '{verb}' e fazer a busca novamente.\")\n",
    "        return [verb]\n",
    "    \n",
    "    return verbs"
   ]
  },
  {
   "cell_type": "code",
   "execution_count": null,
   "metadata": {},
   "outputs": [],
   "source": []
  },
  {
   "cell_type": "code",
   "execution_count": null,
   "metadata": {},
   "outputs": [],
   "source": []
  }
 ],
 "metadata": {
  "kernelspec": {
   "display_name": "tf",
   "language": "python",
   "name": "tf"
  },
  "language_info": {
   "codemirror_mode": {
    "name": "ipython",
    "version": 3
   },
   "file_extension": ".py",
   "mimetype": "text/x-python",
   "name": "python",
   "nbconvert_exporter": "python",
   "pygments_lexer": "ipython3",
   "version": "3.8.0"
  },
  "orig_nbformat": 4
 },
 "nbformat": 4,
 "nbformat_minor": 2
}

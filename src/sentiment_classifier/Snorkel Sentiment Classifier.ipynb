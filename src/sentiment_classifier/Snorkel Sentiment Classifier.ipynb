{
 "cells": [
  {
   "cell_type": "code",
   "execution_count": 72,
   "metadata": {},
   "outputs": [],
   "source": [
    "#Snorkel\n",
    "import re\n",
    "import pandas as pd\n",
    "from snorkel.labeling import LabelingFunction\n",
    "from snorkel.preprocess import preprocessor\n",
    "from snorkel.labeling import PandasLFApplier\n",
    "from snorkel.labeling.model import LabelModel\n",
    "from snorkel.labeling import LFAnalysis\n",
    "from snorkel.labeling import filter_unlabeled_dataframe\n",
    "from snorkel.labeling import labeling_function\n",
    "\n",
    "pd.set_option('display.max_colwidth', None)"
   ]
  },
  {
   "cell_type": "markdown",
   "metadata": {},
   "source": [
    "## Labelling Functions (LFs)"
   ]
  },
  {
   "cell_type": "code",
   "execution_count": 49,
   "metadata": {},
   "outputs": [],
   "source": [
    "GOOD = 1\n",
    "BAD = 0\n",
    "ABSTAIN = -1"
   ]
  },
  {
   "cell_type": "markdown",
   "metadata": {},
   "source": [
    "#### Positive Sentiment LFs\n",
    "\n",
    "- Adjectives\n",
    "- Verbs"
   ]
  },
  {
   "cell_type": "code",
   "execution_count": 50,
   "metadata": {},
   "outputs": [],
   "source": [
    "@labeling_function()\n",
    "def lf_news_good_adjs(x):\n",
    "    with open('./dicts/pos_adjectives.txt') as file:\n",
    "        adjectives = [line.rstrip() for line in file]\n",
    "    \n",
    "    # Identificação dos adjetivos na frase\n",
    "    for word in x.title.lower().split():\n",
    "        if word in adjectives:\n",
    "            return GOOD\n",
    "    return ABSTAIN\n",
    "\n",
    "@labeling_function()\n",
    "def lf_news_good_verbs(x):\n",
    "    with open('./dicts/pos_verbs.txt') as file:\n",
    "        verbs = [line.rstrip() for line in file]\n",
    "    \n",
    "    for word in x.title.lower().split():\n",
    "        if word in verbs:\n",
    "            return GOOD\n",
    "        \n",
    "    return ABSTAIN\n",
    "\n",
    "@labeling_function()\n",
    "def lf_regex_dividendos(x):\n",
    "    dividend_pattern = r\".*pag.*dividendo.*|.*anunc.*dividendo.*|.*distrib.*dividendo.*\"\n",
    "    return GOOD if re.search(dividend_pattern, x.title.lower(), flags=re.I) else ABSTAIN\n",
    "\n",
    "@labeling_function()\n",
    "def lf_regex_resultado_positivo(x):\n",
    "    raise_pattern = r\"fech.*alta.*|.*abr.*alta.*|.*fech.*pos.*|.*abr.*pos.*|.*estre.*alta.*|.*prev.*alta.*\" \n",
    "    return GOOD if re.search(raise_pattern, x.title.lower(), flags=re.I) else ABSTAIN"
   ]
  },
  {
   "cell_type": "markdown",
   "metadata": {},
   "source": [
    "#### Negative Sentiment LFs"
   ]
  },
  {
   "cell_type": "code",
   "execution_count": 51,
   "metadata": {},
   "outputs": [],
   "source": [
    "@labeling_function()\n",
    "def lf_news_bad_adjs(x):\n",
    "    # Lista Inicial de Adjetivos \n",
    "    with open('./dicts/neg_adjectives.txt') as file:\n",
    "        adjectives = [line.rstrip() for line in file]\n",
    "\n",
    "    # Identificação dos adjetivos na frase\n",
    "    for word in x.title.lower().split():\n",
    "        if word in adjectives:\n",
    "            return BAD\n",
    "\n",
    "    return ABSTAIN\n",
    "\n",
    "@labeling_function()\n",
    "def lf_news_bad_verbs(x):\n",
    "    with open('./dicts/neg_verbs.txt') as file:\n",
    "        verbs = [line.rstrip() for line in file]\n",
    "    \n",
    "    for word in x.title.lower().split():\n",
    "        if word in verbs:\n",
    "            return BAD\n",
    "        \n",
    "    return ABSTAIN\n",
    "\n",
    "@labeling_function()\n",
    "def lf_regex_resultado_negativo(x):\n",
    "    fall_pattern = r\"fech.*queda.*|.*abr.*queda.*|.*fech.*neg.*|.*abr.*neg.*|.*prev.*baixa.*|.*prev.*queda.*\" \n",
    "    return BAD if re.search(fall_pattern, x.title.lower(), flags=re.I) else ABSTAIN"
   ]
  },
  {
   "cell_type": "code",
   "execution_count": 90,
   "metadata": {},
   "outputs": [],
   "source": [
    "d = {'title': ['ibovespa negativo pior queda', \n",
    "               'petrobras anuncia data de divulgação de dividendos', \n",
    "               'economia fecha em queda a passos curtos no cenário internacional']\n",
    "}\n",
    "\n",
    "df = pd.DataFrame(data=d)"
   ]
  },
  {
   "cell_type": "code",
   "execution_count": 91,
   "metadata": {},
   "outputs": [
    {
     "name": "stderr",
     "output_type": "stream",
     "text": [
      "100%|██████████| 100/100 [00:00<00:00, 1670.07epoch/s]\n"
     ]
    }
   ],
   "source": [
    "# combine all the labeling functions \n",
    "lfs = [\n",
    "       lf_news_good_adjs, \n",
    "       lf_news_good_verbs,\n",
    "       lf_regex_dividendos,\n",
    "       lf_regex_resultado_positivo,\n",
    "       lf_news_bad_adjs,\n",
    "       lf_news_bad_verbs,\n",
    "       lf_regex_resultado_negativo]\n",
    "\n",
    "# apply the lfs on the dataframe\n",
    "applier = PandasLFApplier(lfs=lfs)\n",
    "L_snorkel = applier.apply(df=df, progress_bar=False)\n",
    "\n",
    "# apply the label model\n",
    "label_model = LabelModel(cardinality=3, device='cpu', verbose=False)\n",
    "\n",
    "# fit on the data\n",
    "label_model.fit(L_snorkel)\n",
    "\n",
    "# predict and create the labels\n",
    "df['label'] = label_model.predict(L=L_snorkel).astype(str)\n",
    "\n",
    "# convert to classes\n",
    "dict_map = {'-1':'NEUTRAL', '1': 'POSITIVE', '0': 'NEGATIVE'}\n",
    "df['label_class'] = df['label'].map(dict_map)"
   ]
  },
  {
   "cell_type": "code",
   "execution_count": 92,
   "metadata": {},
   "outputs": [
    {
     "data": {
      "text/html": [
       "<div>\n",
       "<style scoped>\n",
       "    .dataframe tbody tr th:only-of-type {\n",
       "        vertical-align: middle;\n",
       "    }\n",
       "\n",
       "    .dataframe tbody tr th {\n",
       "        vertical-align: top;\n",
       "    }\n",
       "\n",
       "    .dataframe thead th {\n",
       "        text-align: right;\n",
       "    }\n",
       "</style>\n",
       "<table border=\"1\" class=\"dataframe\">\n",
       "  <thead>\n",
       "    <tr style=\"text-align: right;\">\n",
       "      <th></th>\n",
       "      <th>title</th>\n",
       "      <th>label</th>\n",
       "      <th>label_class</th>\n",
       "    </tr>\n",
       "  </thead>\n",
       "  <tbody>\n",
       "    <tr>\n",
       "      <th>0</th>\n",
       "      <td>ibovespa negativo pior queda</td>\n",
       "      <td>0</td>\n",
       "      <td>NEGATIVE</td>\n",
       "    </tr>\n",
       "    <tr>\n",
       "      <th>1</th>\n",
       "      <td>petrobras anuncia data de divulgação de dividendos</td>\n",
       "      <td>1</td>\n",
       "      <td>POSITIVE</td>\n",
       "    </tr>\n",
       "    <tr>\n",
       "      <th>2</th>\n",
       "      <td>economia fecha em queda a passos curtos no cenário internacional</td>\n",
       "      <td>0</td>\n",
       "      <td>NEGATIVE</td>\n",
       "    </tr>\n",
       "  </tbody>\n",
       "</table>\n",
       "</div>"
      ],
      "text/plain": [
       "                                                              title label  \\\n",
       "0                                      ibovespa negativo pior queda     0   \n",
       "1                petrobras anuncia data de divulgação de dividendos     1   \n",
       "2  economia fecha em queda a passos curtos no cenário internacional     0   \n",
       "\n",
       "  label_class  \n",
       "0    NEGATIVE  \n",
       "1    POSITIVE  \n",
       "2    NEGATIVE  "
      ]
     },
     "execution_count": 92,
     "metadata": {},
     "output_type": "execute_result"
    }
   ],
   "source": [
    "df.head()"
   ]
  },
  {
   "cell_type": "code",
   "execution_count": 86,
   "metadata": {},
   "outputs": [
    {
     "name": "stdout",
     "output_type": "stream",
     "text": [
      "Quantidade Total de Mensagens Rotuladas:  2\n"
     ]
    },
    {
     "data": {
      "text/plain": [
       "NEGATIVE    50.0\n",
       "POSITIVE    50.0\n",
       "Name: label_class, dtype: float64"
      ]
     },
     "execution_count": 86,
     "metadata": {},
     "output_type": "execute_result"
    }
   ],
   "source": [
    "# #Filtering out unlabeled data points\n",
    "# df = df.loc[df.label_class.isin(['POSITIVE', 'NEGATIVE']), :]\n",
    "\n",
    "# print ('Quantidade Total de Mensagens Rotuladas: ', df.shape[0])\n",
    "\n",
    "# # find the label counts \n",
    "# df['label_class'].value_counts() / df.shape[0] * 100"
   ]
  },
  {
   "cell_type": "code",
   "execution_count": null,
   "metadata": {},
   "outputs": [],
   "source": []
  },
  {
   "cell_type": "code",
   "execution_count": null,
   "metadata": {},
   "outputs": [],
   "source": []
  }
 ],
 "metadata": {
  "kernelspec": {
   "display_name": "tf",
   "language": "python",
   "name": "tf"
  },
  "language_info": {
   "codemirror_mode": {
    "name": "ipython",
    "version": 3
   },
   "file_extension": ".py",
   "mimetype": "text/x-python",
   "name": "python",
   "nbconvert_exporter": "python",
   "pygments_lexer": "ipython3",
   "version": "3.8.0"
  },
  "orig_nbformat": 4
 },
 "nbformat": 4,
 "nbformat_minor": 2
}

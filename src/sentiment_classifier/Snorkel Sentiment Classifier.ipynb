{
 "cells": [
  {
   "cell_type": "code",
   "execution_count": 72,
   "metadata": {},
   "outputs": [],
   "source": [
    "#Snorkel\n",
    "import re\n",
    "import pandas as pd\n",
    "from snorkel.labeling import LabelingFunction\n",
    "from snorkel.preprocess import preprocessor\n",
    "from snorkel.labeling import PandasLFApplier\n",
    "from snorkel.labeling.model import LabelModel\n",
    "from snorkel.labeling import LFAnalysis\n",
    "from snorkel.labeling import filter_unlabeled_dataframe\n",
    "from snorkel.labeling import labeling_function\n",
    "\n",
    "pd.set_option('display.max_colwidth', None)"
   ]
  },
  {
   "cell_type": "markdown",
   "metadata": {},
   "source": [
    "## Labelling Functions (LFs)"
   ]
  },
  {
   "cell_type": "code",
   "execution_count": 154,
   "metadata": {},
   "outputs": [],
   "source": [
    "POSITIVE = 1\n",
    "NEGATIVE = 0\n",
    "ABSTAIN = -1\n",
    "\n",
    "categories = [POSITIVE, NEGATIVE, ABSTAIN]"
   ]
  },
  {
   "cell_type": "markdown",
   "metadata": {},
   "source": [
    "#### Positive Sentiment LFs\n",
    "\n",
    "- Adjectives\n",
    "- Verbs"
   ]
  },
  {
   "cell_type": "code",
   "execution_count": 160,
   "metadata": {},
   "outputs": [],
   "source": [
    "@labeling_function()\n",
    "def lf_news_good_adjs(x):\n",
    "    with open('./dicts/final/pos_adj.txt') as file:\n",
    "        adjectives = [line.rstrip() for line in file]\n",
    "    \n",
    "    # Identificação dos adjetivos na frase\n",
    "    for word in x.title.lower().split():\n",
    "        if word in adjectives:\n",
    "            return POSITIVE\n",
    "    return ABSTAIN\n",
    "\n",
    "@labeling_function()\n",
    "def lf_news_good_verbs(x):\n",
    "    with open('./dicts/pos_verbs.txt') as file:\n",
    "        verbs = [line.rstrip() for line in file]\n",
    "    \n",
    "    for word in x.title.lower().split():\n",
    "        if word in verbs:\n",
    "            return POSITIVE\n",
    "        \n",
    "    return ABSTAIN\n",
    "\n",
    "@labeling_function()\n",
    "def lf_regex_dividendos(x):\n",
    "    dividend_pattern = r\".*pag.*dividendo.*|.*anunc.*dividendo.*|.*distrib.*dividendo.*\"\n",
    "    return POSITIVE if re.search(dividend_pattern, x.title.lower(), flags=re.I) else ABSTAIN\n",
    "\n",
    "@labeling_function()\n",
    "def lf_regex_resultado_positivo(x):\n",
    "    raise_pattern = r\"fech.*alta.*|.*abr.*alta.*|.*fech.*pos.*|.*abr.*pos.*|.*estre.*alta.*|.*prev.*alta.*\" \n",
    "    return POSITIVE if re.search(raise_pattern, x.title.lower(), flags=re.I) else ABSTAIN"
   ]
  },
  {
   "cell_type": "markdown",
   "metadata": {},
   "source": [
    "#### Negative Sentiment LFs"
   ]
  },
  {
   "cell_type": "code",
   "execution_count": 176,
   "metadata": {},
   "outputs": [],
   "source": [
    "@labeling_function()\n",
    "def lf_news_bad_adjs(x):\n",
    "    # Lista Inicial de Adjetivos \n",
    "    with open('./dicts/final/neg_adj.txt') as file:\n",
    "        adjectives = [line.rstrip() for line in file]\n",
    "\n",
    "    # Identificação dos adjetivos na frase\n",
    "    for word in x.title.lower().split():\n",
    "        if word in adjectives:\n",
    "            return NEGATIVE\n",
    "\n",
    "    return ABSTAIN\n",
    "\n",
    "@labeling_function()\n",
    "def lf_news_bad_verbs(x):\n",
    "    with open('./dicts/neg_verbs.txt') as file:\n",
    "        verbs = [line.rstrip() for line in file]\n",
    "    \n",
    "    for word in x.title.lower().split():\n",
    "        if word in verbs:\n",
    "            return NEGATIVE\n",
    "        \n",
    "    return ABSTAIN\n",
    "\n",
    "@labeling_function()\n",
    "def lf_regex_resultado_negativo(x):\n",
    "    fall_pattern = r\"fech.*queda.*|.*abr.*queda.*|.*fech.*neg.*|.*abr.*neg.*|.*prev.*baixa.*|.*prev.*queda.*|.*em.*queda.*\" \n",
    "    \n",
    "    if re.search(fall_pattern, x.title.lower(), flags=re.I):\n",
    "        print ('achou', x.title.lower())\n",
    "        return NEGATIVE\n",
    "    else:\n",
    "        return ABSTAIN\n",
    "    \n",
    "    # return NEGATIVE if re.search(fall_pattern, x.title.lower(), flags=re.I) else ABSTAIN"
   ]
  },
  {
   "cell_type": "code",
   "execution_count": 177,
   "metadata": {},
   "outputs": [],
   "source": [
    "d = {'title': ['ibovespa negativo pior queda', \n",
    "               'petrobras anuncia data de divulgação de dividendos',\n",
    "               'petrobras apresenta melhor resultado da história',\n",
    "               'petrobras apresenta pior resultado da história',\n",
    "               'petrobras apresenta resultado insatisfatório',\n",
    "               'petrobras apresenta resultado neutro',\n",
    "               'economia em queda no cenário internacional',\n",
    "               'cash3 divulga lucro de um bilhão mas decepciona acionistas']\n",
    "}\n",
    "\n",
    "df = pd.DataFrame(data=d)"
   ]
  },
  {
   "cell_type": "code",
   "execution_count": 178,
   "metadata": {},
   "outputs": [
    {
     "name": "stdout",
     "output_type": "stream",
     "text": [
      "achou economia em queda no cenário internacional\n"
     ]
    },
    {
     "name": "stderr",
     "output_type": "stream",
     "text": [
      "100%|██████████| 100/100 [00:00<00:00, 1616.64epoch/s]\n"
     ]
    }
   ],
   "source": [
    "# combine all the labeling functions \n",
    "lfs = [\n",
    "       lf_news_good_adjs, \n",
    "       lf_news_good_verbs,\n",
    "       lf_regex_dividendos,\n",
    "       lf_regex_resultado_positivo,\n",
    "       lf_news_bad_adjs,\n",
    "       lf_news_bad_verbs,\n",
    "       lf_regex_resultado_negativo]\n",
    "\n",
    "# apply the lfs on the dataframe\n",
    "applier = PandasLFApplier(lfs=lfs)\n",
    "L_snorkel = applier.apply(df=df, progress_bar=False)\n",
    "\n",
    "# apply the label model\n",
    "label_model = LabelModel(cardinality=len(categories), device='cpu', verbose=False)\n",
    "\n",
    "# fit on the data\n",
    "label_model.fit(L_snorkel)\n",
    "\n",
    "# predict and create the labels\n",
    "df['label'] = label_model.predict(L=L_snorkel, tie_break_policy='abstain').astype(str)\n",
    "\n",
    "# convert to classes\n",
    "dict_map = {'-1': 'NEUTRAL', '1': 'POSITIVE', '0': 'NEGATIVE'}\n",
    "df['label_class'] = df['label'].map(dict_map)"
   ]
  },
  {
   "cell_type": "code",
   "execution_count": 179,
   "metadata": {},
   "outputs": [
    {
     "data": {
      "text/html": [
       "<div>\n",
       "<style scoped>\n",
       "    .dataframe tbody tr th:only-of-type {\n",
       "        vertical-align: middle;\n",
       "    }\n",
       "\n",
       "    .dataframe tbody tr th {\n",
       "        vertical-align: top;\n",
       "    }\n",
       "\n",
       "    .dataframe thead th {\n",
       "        text-align: right;\n",
       "    }\n",
       "</style>\n",
       "<table border=\"1\" class=\"dataframe\">\n",
       "  <thead>\n",
       "    <tr style=\"text-align: right;\">\n",
       "      <th></th>\n",
       "      <th>title</th>\n",
       "      <th>label</th>\n",
       "      <th>label_class</th>\n",
       "    </tr>\n",
       "  </thead>\n",
       "  <tbody>\n",
       "    <tr>\n",
       "      <th>0</th>\n",
       "      <td>ibovespa negativo pior queda</td>\n",
       "      <td>0</td>\n",
       "      <td>NEGATIVE</td>\n",
       "    </tr>\n",
       "    <tr>\n",
       "      <th>1</th>\n",
       "      <td>petrobras anuncia data de divulgação de dividendos</td>\n",
       "      <td>1</td>\n",
       "      <td>POSITIVE</td>\n",
       "    </tr>\n",
       "    <tr>\n",
       "      <th>2</th>\n",
       "      <td>petrobras apresenta melhor resultado da história</td>\n",
       "      <td>1</td>\n",
       "      <td>POSITIVE</td>\n",
       "    </tr>\n",
       "    <tr>\n",
       "      <th>3</th>\n",
       "      <td>petrobras apresenta pior resultado da história</td>\n",
       "      <td>0</td>\n",
       "      <td>NEGATIVE</td>\n",
       "    </tr>\n",
       "    <tr>\n",
       "      <th>4</th>\n",
       "      <td>petrobras apresenta resultado insatisfatório</td>\n",
       "      <td>0</td>\n",
       "      <td>NEGATIVE</td>\n",
       "    </tr>\n",
       "    <tr>\n",
       "      <th>5</th>\n",
       "      <td>petrobras apresenta resultado neutro</td>\n",
       "      <td>-1</td>\n",
       "      <td>NEUTRAL</td>\n",
       "    </tr>\n",
       "    <tr>\n",
       "      <th>6</th>\n",
       "      <td>economia em queda no cenário internacional</td>\n",
       "      <td>2</td>\n",
       "      <td>NaN</td>\n",
       "    </tr>\n",
       "    <tr>\n",
       "      <th>7</th>\n",
       "      <td>cash3 divulga lucro de um bilhão mas decepciona acionistas</td>\n",
       "      <td>-1</td>\n",
       "      <td>NEUTRAL</td>\n",
       "    </tr>\n",
       "  </tbody>\n",
       "</table>\n",
       "</div>"
      ],
      "text/plain": [
       "                                                        title label  \\\n",
       "0                                ibovespa negativo pior queda     0   \n",
       "1          petrobras anuncia data de divulgação de dividendos     1   \n",
       "2            petrobras apresenta melhor resultado da história     1   \n",
       "3              petrobras apresenta pior resultado da história     0   \n",
       "4                petrobras apresenta resultado insatisfatório     0   \n",
       "5                        petrobras apresenta resultado neutro    -1   \n",
       "6                  economia em queda no cenário internacional     2   \n",
       "7  cash3 divulga lucro de um bilhão mas decepciona acionistas    -1   \n",
       "\n",
       "  label_class  \n",
       "0    NEGATIVE  \n",
       "1    POSITIVE  \n",
       "2    POSITIVE  \n",
       "3    NEGATIVE  \n",
       "4    NEGATIVE  \n",
       "5     NEUTRAL  \n",
       "6         NaN  \n",
       "7     NEUTRAL  "
      ]
     },
     "execution_count": 179,
     "metadata": {},
     "output_type": "execute_result"
    }
   ],
   "source": [
    "df.head(10)"
   ]
  },
  {
   "cell_type": "code",
   "execution_count": 86,
   "metadata": {},
   "outputs": [
    {
     "name": "stdout",
     "output_type": "stream",
     "text": [
      "Quantidade Total de Mensagens Rotuladas:  2\n"
     ]
    },
    {
     "data": {
      "text/plain": [
       "NEGATIVE    50.0\n",
       "POSITIVE    50.0\n",
       "Name: label_class, dtype: float64"
      ]
     },
     "execution_count": 86,
     "metadata": {},
     "output_type": "execute_result"
    }
   ],
   "source": [
    "# #Filtering out unlabeled data points\n",
    "# df = df.loc[df.label_class.isin(['POSITIVE', 'NEGATIVE']), :]\n",
    "\n",
    "# print ('Quantidade Total de Mensagens Rotuladas: ', df.shape[0])\n",
    "\n",
    "# # find the label counts \n",
    "# df['label_class'].value_counts() / df.shape[0] * 100"
   ]
  },
  {
   "cell_type": "code",
   "execution_count": null,
   "metadata": {},
   "outputs": [],
   "source": []
  },
  {
   "cell_type": "code",
   "execution_count": null,
   "metadata": {},
   "outputs": [],
   "source": []
  }
 ],
 "metadata": {
  "kernelspec": {
   "display_name": "tf",
   "language": "python",
   "name": "tf"
  },
  "language_info": {
   "codemirror_mode": {
    "name": "ipython",
    "version": 3
   },
   "file_extension": ".py",
   "mimetype": "text/x-python",
   "name": "python",
   "nbconvert_exporter": "python",
   "pygments_lexer": "ipython3",
   "version": "3.8.0"
  },
  "orig_nbformat": 4
 },
 "nbformat": 4,
 "nbformat_minor": 2
}
